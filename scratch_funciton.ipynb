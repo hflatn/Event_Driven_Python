{
 "cells": [
  {
   "cell_type": "code",
   "execution_count": 1,
   "metadata": {},
   "outputs": [
    {
     "name": "stdout",
     "output_type": "stream",
     "text": [
      "Loading function\n"
     ]
    }
   ],
   "source": [
    "import pandas as pd\n",
    "\n",
    "nyt_url = 'https://raw.githubusercontent.com/nytimes/covid-19-data/master/us.csv'\n",
    "jh_url_death = 'https://raw.githubusercontent.com/CSSEGISandData/COVID-19/master/csse_covid_19_data/csse_covid_19_time_series/time_series_covid19_deaths_global.csv'\n",
    "jh_url_case = 'https://raw.githubusercontent.com/CSSEGISandData/COVID-19/master/csse_covid_19_data/csse_covid_19_time_series/time_series_covid19_confirmed_global.csv'\n",
    "\n",
    "nyt_df = pd.read_csv(nyt_url)\n",
    "jh_df_death = pd.read_csv(jh_url_death)\n",
    "jh_df_case = pd.read_csv(jh_url_case)\n",
    "print('Loading function')"
   ]
  },
  {
   "cell_type": "code",
   "execution_count": 2,
   "metadata": {},
   "outputs": [],
   "source": [
    "# Renaming the columns to be properly capitalized \n",
    "nyt_df.rename(columns={'date': 'Date', 'cases': 'Cases', 'deaths': 'Deaths'}, inplace = True)"
   ]
  },
  {
   "cell_type": "code",
   "execution_count": 3,
   "metadata": {},
   "outputs": [
    {
     "name": "stdout",
     "output_type": "stream",
     "text": [
      "         Date   Deaths\n",
      "0     1/22/20        0\n",
      "1     1/23/20        0\n",
      "2     1/24/20        0\n",
      "3     1/25/20        0\n",
      "4     1/26/20        0\n",
      "...       ...      ...\n",
      "1044  12/1/22  1081147\n",
      "1045  12/2/22  1081412\n",
      "1046  12/3/22  1081431\n",
      "1047  12/4/22  1081431\n",
      "1048  12/5/22  1081638\n",
      "\n",
      "[1049 rows x 2 columns]\n"
     ]
    }
   ],
   "source": [
    "# Filters out countries that are not the US since these are global Covid statistics.\n",
    "jh_df_us_death = jh_df_death.loc[jh_df_death['Country/Region'] == 'US']\n",
    "# Drops unnecessary columns\n",
    "jh_df_us_death = jh_df_us_death.drop(['Country/Region', 'Province/State', 'Lat', 'Long'], axis=1)\n",
    "# Unpivots dataframe from wide to long format\n",
    "jh_df_us_death = jh_df_us_death.melt(var_name='Date', value_name='Deaths')\n",
    "\n",
    "print(jh_df_us_death)"
   ]
  },
  {
   "cell_type": "code",
   "execution_count": 4,
   "metadata": {},
   "outputs": [],
   "source": [
    "# Repeat steps above for case statistics\n",
    "jh_df_us_case = jh_df_case.loc[jh_df_case['Country/Region'] == 'US']\n",
    "jh_df_us_case = jh_df_us_case.drop(['Country/Region', 'Province/State', 'Lat', 'Long'], axis=1)\n",
    "jh_df_us_case = jh_df_us_case.melt(var_name='Date', value_name='Cases')\n"
   ]
  },
  {
   "cell_type": "code",
   "execution_count": 5,
   "metadata": {},
   "outputs": [
    {
     "name": "stdout",
     "output_type": "stream",
     "text": [
      "         Date   Deaths     Cases\n",
      "0     1/22/20        0         1\n",
      "1     1/23/20        0         1\n",
      "2     1/24/20        0         2\n",
      "3     1/25/20        0         2\n",
      "4     1/26/20        0         5\n",
      "...       ...      ...       ...\n",
      "1044  12/1/22  1081147  98924207\n",
      "1045  12/2/22  1081412  98962019\n",
      "1046  12/3/22  1081431  98967906\n",
      "1047  12/4/22  1081431  98972375\n",
      "1048  12/5/22  1081638  99023619\n",
      "\n",
      "[1049 rows x 3 columns]\n"
     ]
    }
   ],
   "source": [
    "# Joining Hopkins Data Frames\n",
    "jh_df_us = pd.merge(jh_df_us_death, jh_df_us_case, on=['Date'])\n",
    "print(jh_df_us)"
   ]
  },
  {
   "cell_type": "code",
   "execution_count": 6,
   "metadata": {},
   "outputs": [],
   "source": [
    "# Converts 'Date' columns to datetime data type\n",
    "nyt_df[\"Date\"] = pd.to_datetime(nyt_df[\"Date\"])\n",
    "jh_df_us[\"Date\"] = pd.to_datetime(jh_df_us[\"Date\"])"
   ]
  },
  {
   "cell_type": "code",
   "execution_count": 7,
   "metadata": {},
   "outputs": [
    {
     "name": "stdout",
     "output_type": "stream",
     "text": [
      "Date      datetime64[ns]\n",
      "Cases              int64\n",
      "Deaths             int64\n",
      "dtype: object\n",
      "Date      object\n",
      "Deaths     int64\n",
      "dtype: object\n",
      "Date     object\n",
      "Cases     int64\n",
      "dtype: object\n"
     ]
    }
   ],
   "source": [
    "print(nyt_df.dtypes)\n",
    "print(jh_df_us_death.dtypes)\n",
    "print(jh_df_us_case.dtypes)"
   ]
  },
  {
   "cell_type": "code",
   "execution_count": 10,
   "metadata": {},
   "outputs": [
    {
     "name": "stdout",
     "output_type": "stream",
     "text": [
      "           Date     Cases   Deaths\n",
      "0    2020-01-21         1        0\n",
      "1    2020-01-22         1        0\n",
      "2    2020-01-23         1        0\n",
      "3    2020-01-24         2        0\n",
      "4    2020-01-25         3        0\n",
      "...         ...       ...      ...\n",
      "1045 2022-12-01  98616721  1088564\n",
      "1046 2022-12-02  98690152  1088978\n",
      "1047 2022-12-03  98695013  1088997\n",
      "1048 2022-12-04  98699619  1088997\n",
      "1049 2022-12-05  98753618  1089181\n",
      "\n",
      "[1050 rows x 3 columns]\n",
      "           Date   Deaths     Cases\n",
      "0    2020-01-22        0         1\n",
      "1    2020-01-23        0         1\n",
      "2    2020-01-24        0         2\n",
      "3    2020-01-25        0         2\n",
      "4    2020-01-26        0         5\n",
      "...         ...      ...       ...\n",
      "1044 2022-12-01  1081147  98924207\n",
      "1045 2022-12-02  1081412  98962019\n",
      "1046 2022-12-03  1081431  98967906\n",
      "1047 2022-12-04  1081431  98972375\n",
      "1048 2022-12-05  1081638  99023619\n",
      "\n",
      "[1049 rows x 3 columns]\n",
      "Date      datetime64[ns]\n",
      "Deaths             int64\n",
      "Cases              int64\n",
      "dtype: object\n"
     ]
    }
   ],
   "source": [
    "print(nyt_df)\n",
    "print(jh_df_us)\n",
    "print(jh_df_us.dtypes)\n",
    "\n"
   ]
  }
 ],
 "metadata": {
  "kernelspec": {
   "display_name": "Python 3.8.8 ('base')",
   "language": "python",
   "name": "python3"
  },
  "language_info": {
   "codemirror_mode": {
    "name": "ipython",
    "version": 3
   },
   "file_extension": ".py",
   "mimetype": "text/x-python",
   "name": "python",
   "nbconvert_exporter": "python",
   "pygments_lexer": "ipython3",
   "version": "3.8.8 (default, Apr 13 2021, 15:08:03) [MSC v.1916 64 bit (AMD64)]"
  },
  "orig_nbformat": 4,
  "vscode": {
   "interpreter": {
    "hash": "2d3c5fd4b34d9e559388e10850a25fe6f5174ced58fc54c4f4377611d6ae6d5f"
   }
  }
 },
 "nbformat": 4,
 "nbformat_minor": 2
}
